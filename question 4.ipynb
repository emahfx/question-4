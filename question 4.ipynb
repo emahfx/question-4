{
 "cells": [
  {
   "cell_type": "code",
   "execution_count": 42,
   "id": "1c58293d",
   "metadata": {},
   "outputs": [
    {
     "name": "stdout",
     "output_type": "stream",
     "text": [
      "Enter an item : man\n",
      "cart items :  [True]\n",
      "Press A to add to cart \n",
      " Press D to show cart items \n",
      " Press S to search cart \n",
      " Press E to exit cart \n",
      "E\n",
      "exiting...\n"
     ]
    }
   ],
   "source": [
    "cart=[]\n",
    "def enter_item():\n",
    "    x= input('Enter an item : ')\n",
    "    v = x.isalpha()\n",
    "    return v\n",
    "\n",
    "def add_item(val, main):\n",
    "    main.append(val)\n",
    "    return main\n",
    "\n",
    "def display_item(main):\n",
    "    print('cart items : ', main)\n",
    "    add_new_item() \n",
    "    \n",
    "def search_item():\n",
    "    search_item=input('Search cart : ')\n",
    "    if search_item in cart:\n",
    "        \n",
    "        print('item',search_item, 'is found')\n",
    "    else:\n",
    "        print('item',search_item,'was not found')\n",
    "    showDisplay(r)\n",
    "    \n",
    "    \n",
    "def add_new_item():\n",
    "    y=input('Press A to add to cart \\n Press D to show cart items \\n Press S to search cart \\n Press E to exit cart \\n')\n",
    "    if y=='A':\n",
    "        print('Adding item : ')\n",
    "        y=enter_item()\n",
    "        g=add_item(y, cart)\n",
    "        display_item(g)\n",
    "    if y=='D':\n",
    "        display_item(cart)\n",
    "    elif y=='S':\n",
    "        search_item()\n",
    "    elif y=='E':\n",
    "        print('exiting...')\n",
    "\n",
    "p=enter_item()\n",
    "r=add_item(p, cart)\n",
    "display_item(r)"
   ]
  },
  {
   "cell_type": "code",
   "execution_count": null,
   "id": "18c07b88",
   "metadata": {},
   "outputs": [],
   "source": []
  },
  {
   "cell_type": "code",
   "execution_count": null,
   "id": "1028366e",
   "metadata": {},
   "outputs": [],
   "source": []
  }
 ],
 "metadata": {
  "kernelspec": {
   "display_name": "Python 3 (ipykernel)",
   "language": "python",
   "name": "python3"
  },
  "language_info": {
   "codemirror_mode": {
    "name": "ipython",
    "version": 3
   },
   "file_extension": ".py",
   "mimetype": "text/x-python",
   "name": "python",
   "nbconvert_exporter": "python",
   "pygments_lexer": "ipython3",
   "version": "3.9.12"
  }
 },
 "nbformat": 4,
 "nbformat_minor": 5
}
